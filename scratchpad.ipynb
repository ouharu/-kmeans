{
  "nbformat": 4,
  "nbformat_minor": 0,
  "metadata": {
    "colab": {
      "name": "scratchpad",
      "provenance": [],
      "include_colab_link": true
    },
    "kernelspec": {
      "display_name": "Python 3",
      "name": "python3"
    }
  },
  "cells": [
    {
      "cell_type": "markdown",
      "metadata": {
        "id": "view-in-github",
        "colab_type": "text"
      },
      "source": [
        "<a href=\"https://colab.research.google.com/github/ouharu/-kmeans/blob/master/scratchpad.ipynb\" target=\"_parent\"><img src=\"https://colab.research.google.com/assets/colab-badge.svg\" alt=\"Open In Colab\"/></a>"
      ]
    },
    {
      "cell_type": "code",
      "metadata": {
        "id": "lIYdn1woOS1n"
      },
      "source": [
        "from sklearn.datasets import fetch_openml"
      ],
      "execution_count": 1,
      "outputs": []
    },
    {
      "cell_type": "code",
      "metadata": {
        "id": "WQyInYvtRXvs"
      },
      "source": [
        ""
      ],
      "execution_count": 2,
      "outputs": []
    },
    {
      "cell_type": "code",
      "metadata": {
        "id": "_XXI3ZJiRcVD",
        "outputId": "faa750f2-c4e2-47e8-c3a7-a3ba50b1ed99",
        "colab": {
          "base_uri": "https://localhost:8080/"
        }
      },
      "source": [
        "y.shape"
      ],
      "execution_count": 5,
      "outputs": [
        {
          "output_type": "execute_result",
          "data": {
            "text/plain": [
              "(70000,)"
            ]
          },
          "metadata": {
            "tags": []
          },
          "execution_count": 5
        }
      ]
    },
    {
      "cell_type": "code",
      "metadata": {
        "id": "kYCFUGrFh4lm",
        "outputId": "c8327b7e-a8ab-4e3c-f2e4-7b71cbd188e5",
        "colab": {
          "base_uri": "https://localhost:8080/"
        }
      },
      "source": [
        "from google.colab import drive\n",
        "drive.mount('/content/drive')"
      ],
      "execution_count": 8,
      "outputs": [
        {
          "output_type": "stream",
          "text": [
            "Mounted at /content/drive\n"
          ],
          "name": "stdout"
        }
      ]
    },
    {
      "cell_type": "code",
      "metadata": {
        "id": "5P3ntR-dila_"
      },
      "source": [
        "# /content/drive/My Drive/real word data/USPS.mat\n",
        "import scipy.io as sio\n",
        "import numpy as np\n",
        "\n",
        "#load\n",
        "data = sio.loadmat('/content/drive/My Drive/real word data/USPS.mat')"
      ],
      "execution_count": 9,
      "outputs": []
    },
    {
      "cell_type": "code",
      "metadata": {
        "id": "xQZ2sDzFkUFy"
      },
      "source": [
        "X = data['fea']\n",
        "y = data['gnd']"
      ],
      "execution_count": 15,
      "outputs": []
    },
    {
      "cell_type": "code",
      "metadata": {
        "id": "Ctc2NrV2kxRx",
        "outputId": "5bba7069-5d66-4064-dc05-70f9378f6040",
        "colab": {
          "base_uri": "https://localhost:8080/"
        }
      },
      "source": [
        "print(y[1],X[1],)"
      ],
      "execution_count": 23,
      "outputs": [
        {
          "output_type": "stream",
          "text": [
            "[6] [-0.999927 -0.993644 -0.900309 -0.632621 -0.443145 -0.454436 -0.474872\n",
            " -0.431176 -0.494539 -0.583648 -0.568653 -0.400266 -0.155455 -0.086001\n",
            " -0.369077 -0.822611 -0.999842 -0.986289 -0.782169 -0.15645   0.395208\n",
            "  0.49387   0.4758    0.523358  0.455069  0.354274  0.363338  0.499252\n",
            "  0.647218  0.607744  0.110684 -0.679707 -0.999892 -0.990451 -0.837409\n",
            " -0.218319  0.631773  0.919566  0.929364  0.925532  0.85006   0.758087\n",
            "  0.726905  0.713055  0.674446  0.567742  0.101124 -0.671972 -0.999927\n",
            " -0.993444 -0.880307 -0.319415  0.609335  0.966606  0.964081  0.845132\n",
            "  0.617216  0.359198  0.208968  0.061853 -0.110706 -0.256678 -0.556562\n",
            " -0.88089  -0.999869 -0.988474 -0.808648 -0.143179  0.686794  0.972492\n",
            "  0.923586  0.699685  0.374772 -0.045248 -0.401217 -0.643789 -0.781\n",
            " -0.849182 -0.935193 -0.987719 -0.999819 -0.984223 -0.748024 -0.004128\n",
            "  0.717647  0.940667  0.914529  0.825696  0.710392  0.450169 -0.021231\n",
            " -0.514831 -0.840397 -0.966157 -0.99492  -0.999497 -0.999861 -0.990056\n",
            " -0.838909 -0.312271  0.311761  0.541702  0.491092  0.481069  0.589229\n",
            "  0.709781  0.617348  0.210162 -0.397006 -0.832815 -0.97741  -0.998502\n",
            " -0.997546 -0.98926  -0.945389 -0.787179 -0.528896 -0.398651 -0.496713\n",
            " -0.502568 -0.265468  0.174015  0.558494  0.666801  0.277222 -0.404532\n",
            " -0.850136 -0.982182 -0.949359 -0.856422 -0.779271 -0.811577 -0.862584\n",
            " -0.891167 -0.944822 -0.947893 -0.851595 -0.616466 -0.159666  0.467762\n",
            "  0.676933  0.243229 -0.476919 -0.897521 -0.635506 -0.289107 -0.085558\n",
            " -0.245638 -0.604491 -0.900138 -0.991902 -0.997888 -0.99003  -0.946961\n",
            " -0.730512 -0.137513  0.563857  0.662153  0.05674  -0.697892 -0.030864\n",
            "  0.517754  0.635399  0.341978 -0.246166 -0.799968 -0.977519 -0.992538\n",
            " -0.997419 -0.995065 -0.940299 -0.605751  0.166051  0.7325    0.480699\n",
            " -0.392543  0.140445  0.767524  0.793069  0.371517 -0.195013 -0.650601\n",
            " -0.811426 -0.869253 -0.940782 -0.96529  -0.923826 -0.690445 -0.069844\n",
            "  0.688541  0.731191  0.019383 -0.128626  0.57843   0.836966  0.699714\n",
            "  0.368028  0.009885 -0.163435 -0.290801 -0.467169 -0.52822  -0.448539\n",
            " -0.166931  0.281231  0.790048  0.819926  0.207931 -0.579437 -0.011896\n",
            "  0.456931  0.653563  0.691605  0.662515  0.644786  0.603085  0.532547\n",
            "  0.51345   0.548801  0.655777  0.789453  0.890432  0.678962 -0.031372\n",
            " -0.904029 -0.71232  -0.436572 -0.1306    0.165739  0.407183  0.546841\n",
            "  0.611068  0.717344  0.835281  0.847769  0.774506  0.697669  0.558652\n",
            "  0.170055 -0.514394 -0.993681 -0.972657 -0.912256 -0.801429 -0.663504\n",
            " -0.509438 -0.388084 -0.273639  0.001094  0.294825  0.316915  0.113494\n",
            " -0.092331 -0.32939  -0.584681 -0.868793]\n"
          ],
          "name": "stdout"
        }
      ]
    },
    {
      "cell_type": "code",
      "metadata": {
        "id": "7Nac3NSgoBSR"
      },
      "source": [
        "#读取out.log文件，其他的参数默认\n",
        "import pandas as pd\n",
        "\n",
        "df = pd.read_csv('/content/drive/My Drive/real word data/usps.csv')"
      ],
      "execution_count": 24,
      "outputs": []
    },
    {
      "cell_type": "code",
      "metadata": {
        "id": "0_XfqGhisGbC",
        "outputId": "bc0d8107-43cd-404b-aabe-276d3438fe45",
        "colab": {
          "base_uri": "https://localhost:8080/",
          "height": 379
        }
      },
      "source": [
        "df[]"
      ],
      "execution_count": 27,
      "outputs": [
        {
          "output_type": "error",
          "ename": "TypeError",
          "evalue": "ignored",
          "traceback": [
            "\u001b[0;31m---------------------------------------------------------------------------\u001b[0m",
            "\u001b[0;31mTypeError\u001b[0m                                 Traceback (most recent call last)",
            "\u001b[0;32m<ipython-input-27-0944106b92a0>\u001b[0m in \u001b[0;36m<module>\u001b[0;34m()\u001b[0m\n\u001b[0;32m----> 1\u001b[0;31m \u001b[0mdf\u001b[0m\u001b[0;34m[\u001b[0m\u001b[0;36m0\u001b[0m\u001b[0;34m,\u001b[0m\u001b[0;34m:\u001b[0m\u001b[0;34m]\u001b[0m\u001b[0;34m\u001b[0m\u001b[0;34m\u001b[0m\u001b[0m\n\u001b[0m",
            "\u001b[0;32m/usr/local/lib/python3.6/dist-packages/pandas/core/frame.py\u001b[0m in \u001b[0;36m__getitem__\u001b[0;34m(self, key)\u001b[0m\n\u001b[1;32m   2904\u001b[0m             \u001b[0;32mif\u001b[0m \u001b[0mself\u001b[0m\u001b[0;34m.\u001b[0m\u001b[0mcolumns\u001b[0m\u001b[0;34m.\u001b[0m\u001b[0mnlevels\u001b[0m \u001b[0;34m>\u001b[0m \u001b[0;36m1\u001b[0m\u001b[0;34m:\u001b[0m\u001b[0;34m\u001b[0m\u001b[0;34m\u001b[0m\u001b[0m\n\u001b[1;32m   2905\u001b[0m                 \u001b[0;32mreturn\u001b[0m \u001b[0mself\u001b[0m\u001b[0;34m.\u001b[0m\u001b[0m_getitem_multilevel\u001b[0m\u001b[0;34m(\u001b[0m\u001b[0mkey\u001b[0m\u001b[0;34m)\u001b[0m\u001b[0;34m\u001b[0m\u001b[0;34m\u001b[0m\u001b[0m\n\u001b[0;32m-> 2906\u001b[0;31m             \u001b[0mindexer\u001b[0m \u001b[0;34m=\u001b[0m \u001b[0mself\u001b[0m\u001b[0;34m.\u001b[0m\u001b[0mcolumns\u001b[0m\u001b[0;34m.\u001b[0m\u001b[0mget_loc\u001b[0m\u001b[0;34m(\u001b[0m\u001b[0mkey\u001b[0m\u001b[0;34m)\u001b[0m\u001b[0;34m\u001b[0m\u001b[0;34m\u001b[0m\u001b[0m\n\u001b[0m\u001b[1;32m   2907\u001b[0m             \u001b[0;32mif\u001b[0m \u001b[0mis_integer\u001b[0m\u001b[0;34m(\u001b[0m\u001b[0mindexer\u001b[0m\u001b[0;34m)\u001b[0m\u001b[0;34m:\u001b[0m\u001b[0;34m\u001b[0m\u001b[0;34m\u001b[0m\u001b[0m\n\u001b[1;32m   2908\u001b[0m                 \u001b[0mindexer\u001b[0m \u001b[0;34m=\u001b[0m \u001b[0;34m[\u001b[0m\u001b[0mindexer\u001b[0m\u001b[0;34m]\u001b[0m\u001b[0;34m\u001b[0m\u001b[0;34m\u001b[0m\u001b[0m\n",
            "\u001b[0;32m/usr/local/lib/python3.6/dist-packages/pandas/core/indexes/base.py\u001b[0m in \u001b[0;36mget_loc\u001b[0;34m(self, key, method, tolerance)\u001b[0m\n\u001b[1;32m   2893\u001b[0m             \u001b[0mcasted_key\u001b[0m \u001b[0;34m=\u001b[0m \u001b[0mself\u001b[0m\u001b[0;34m.\u001b[0m\u001b[0m_maybe_cast_indexer\u001b[0m\u001b[0;34m(\u001b[0m\u001b[0mkey\u001b[0m\u001b[0;34m)\u001b[0m\u001b[0;34m\u001b[0m\u001b[0;34m\u001b[0m\u001b[0m\n\u001b[1;32m   2894\u001b[0m             \u001b[0;32mtry\u001b[0m\u001b[0;34m:\u001b[0m\u001b[0;34m\u001b[0m\u001b[0;34m\u001b[0m\u001b[0m\n\u001b[0;32m-> 2895\u001b[0;31m                 \u001b[0;32mreturn\u001b[0m \u001b[0mself\u001b[0m\u001b[0;34m.\u001b[0m\u001b[0m_engine\u001b[0m\u001b[0;34m.\u001b[0m\u001b[0mget_loc\u001b[0m\u001b[0;34m(\u001b[0m\u001b[0mcasted_key\u001b[0m\u001b[0;34m)\u001b[0m\u001b[0;34m\u001b[0m\u001b[0;34m\u001b[0m\u001b[0m\n\u001b[0m\u001b[1;32m   2896\u001b[0m             \u001b[0;32mexcept\u001b[0m \u001b[0mKeyError\u001b[0m \u001b[0;32mas\u001b[0m \u001b[0merr\u001b[0m\u001b[0;34m:\u001b[0m\u001b[0;34m\u001b[0m\u001b[0;34m\u001b[0m\u001b[0m\n\u001b[1;32m   2897\u001b[0m                 \u001b[0;32mraise\u001b[0m \u001b[0mKeyError\u001b[0m\u001b[0;34m(\u001b[0m\u001b[0mkey\u001b[0m\u001b[0;34m)\u001b[0m \u001b[0;32mfrom\u001b[0m \u001b[0merr\u001b[0m\u001b[0;34m\u001b[0m\u001b[0;34m\u001b[0m\u001b[0m\n",
            "\u001b[0;32mpandas/_libs/index.pyx\u001b[0m in \u001b[0;36mpandas._libs.index.IndexEngine.get_loc\u001b[0;34m()\u001b[0m\n",
            "\u001b[0;32mpandas/_libs/index.pyx\u001b[0m in \u001b[0;36mpandas._libs.index.IndexEngine.get_loc\u001b[0;34m()\u001b[0m\n",
            "\u001b[0;31mTypeError\u001b[0m: '(0, slice(None, None, None))' is an invalid key"
          ]
        }
      ]
    }
  ]
}